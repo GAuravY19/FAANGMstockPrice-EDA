{
  "nbformat": 4,
  "nbformat_minor": 0,
  "metadata": {
    "colab": {
      "provenance": []
    },
    "kernelspec": {
      "name": "python3",
      "display_name": "Python 3"
    },
    "language_info": {
      "name": "python"
    }
  },
  "cells": [
    {
      "cell_type": "markdown",
      "source": [
        "\n",
        "# ⭕✅  **MAANGM** Companies Stock Price EDA  ✅⭕\n",
        "\n",
        "<!-- <img src=\"/content/OIP.jpeg\"> -->\n",
        "\n"
      ],
      "metadata": {
        "id": "0270TTVZxT4k"
      }
    },
    {
      "cell_type": "code",
      "execution_count": null,
      "metadata": {
        "id": "XrbUY7I8w4F7"
      },
      "outputs": [],
      "source": []
    }
  ]
}